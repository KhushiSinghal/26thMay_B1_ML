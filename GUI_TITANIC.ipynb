{
 "cells": [
  {
   "cell_type": "code",
   "execution_count": null,
   "metadata": {},
   "outputs": [],
   "source": [
    "from tkinter import *\n",
    "\n",
    "window =Tk()\n",
    "\n",
    "window.geometry('500x500')\n",
    "window.title('Titanic Survival Predictor')\n",
    "\n",
    "opts = ['Male','Female']\n",
    "clicked = Variable(window)\n",
    "clicked.set('Male')\n",
    "\n",
    "label = Label(window,text='Name',fg='navy',font=('Verdana bold',10)).place(x=30,y=30)\n",
    "label1 = Label(window,text='Age',fg='navy',font=('Verdana bold',10)).place(x=30,y=60)\n",
    "label2 = Label(window,text='Gender',fg='navy',font=('Verdana bold',10)).place(x=30,y=90)\n",
    "label3 = Label(window,text='Fare',fg='navy',font=('Verdana bold',10)).place(x=30,y=180)\n",
    "label4 = Label(window,text='Total Siblings/Spouse Travelling Together',fg='navy',font=('Verdana bold',10)).place(x=50,y=210)\n",
    "label5 = Label(window,text='Total Parent/Children Travelling Together',fg='navy',font=('Verdana bold',10)).place(x=50,y=280)\n",
    "\n",
    "ent = Entry(window,width=18).place(x=90,y=30)\n",
    "ent1 = Entry(window,width=18).place(x=90,y=60)\n",
    "\n",
    "drp = OptionMenu(window,clicked, *opts).place(x=90,y=90)\n",
    "\n",
    "ent2 = Entry(window,width=18).place(x=90,y=180)\n",
    "ent3= Entry(window,width=30).place(x=60,y=240)\n",
    "\n",
    "ent4 = Entry(window,width=30).place(x=60,y=310)\n",
    "\n",
    "btn = Button(window,text='PREDICT',bg='snow4',fg='blue4',width=20).place(x=110,y=360)\n",
    "\n",
    "\n",
    "\n",
    "\n",
    "\n",
    "\n",
    "window.mainloop()"
   ]
  },
  {
   "cell_type": "code",
   "execution_count": null,
   "metadata": {},
   "outputs": [],
   "source": []
  }
 ],
 "metadata": {
  "kernelspec": {
   "display_name": "Python 3",
   "language": "python",
   "name": "python3"
  },
  "language_info": {
   "codemirror_mode": {
    "name": "ipython",
    "version": 3
   },
   "file_extension": ".py",
   "mimetype": "text/x-python",
   "name": "python",
   "nbconvert_exporter": "python",
   "pygments_lexer": "ipython3",
   "version": "3.8.3"
  }
 },
 "nbformat": 4,
 "nbformat_minor": 4
}
